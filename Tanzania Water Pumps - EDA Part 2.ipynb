{
 "cells": [
  {
   "cell_type": "markdown",
   "metadata": {},
   "source": [
    "# Improving Access to Clean, Safe Drinking Water in Tanzania\n",
    "## Exploratory Data Analysis - Part 2"
   ]
  },
  {
   "cell_type": "markdown",
   "metadata": {},
   "source": [
    "Kenneth Liao"
   ]
  },
  {
   "cell_type": "markdown",
   "metadata": {},
   "source": [
    "---"
   ]
  },
  {
   "cell_type": "markdown",
   "metadata": {},
   "source": [
    "## Background"
   ]
  },
  {
   "cell_type": "markdown",
   "metadata": {},
   "source": [
    "The UN publishes and reviews a list of least developed countries (LDC) every 3 years. LDCs are “low-income countries confronting severe structural impediments to sustainable development. They are highly vulnerable to economic and environmental shocks and have low levels of human assets.”$^{1}$. Tanzania has been classified as an LDC since the UN published the first list of LDCs in 1971$^{2}$. A common challenge of LDCs is a lack of infrastructure to support the development of the nation, including access to education and healthcare, waste management, and potable water.\n",
    "\n",
    "According to UNICEF, as of 2017, more than 24 million Tanzanians lacked access to basic drinking water$^{3}$. This corresponds to only 56.7% of the country’s population having access to basic drinking water. Outside of developed urban areas, much of the potable water is accessed via water pumps. \n",
    "\n",
    "Taarifa is an open-source platform for crowd-sourced reporting and triaging of infrastructure related issues. Together with the Tanzanian Ministry of Water, data has been collected for thousands of water pumps throughout Tanzania. The goal of this project is to be able to predict the condition of these water pumps to improve maintenance, reduce pump downtime, and ensure basic water access for tens of millions of Tanzanians."
   ]
  },
  {
   "cell_type": "markdown",
   "metadata": {},
   "source": [
    "**References**\n",
    "\n",
    "1. https://www.un.org/development/desa/dpad/least-developed-country-category.html\n",
    "2. https://www.un.org/development/desa/dpad/wp-content/uploads/sites/45/publication/ldc_list.pdf\n",
    "3. https://washwatch.org/en/countries/tanzania/summary/statistics/\n"
   ]
  },
  {
   "cell_type": "markdown",
   "metadata": {},
   "source": [
    "### Problem Description"
   ]
  },
  {
   "cell_type": "markdown",
   "metadata": {},
   "source": [
    "Predict the operating condition of water pumps in Tanzania given various metadata on each water pump."
   ]
  },
  {
   "cell_type": "markdown",
   "metadata": {},
   "source": [
    "### Strategy"
   ]
  },
  {
   "cell_type": "markdown",
   "metadata": {},
   "source": [
    "The strategy will be to implement a Random Forest model for multiclass classification of the state of water pumps."
   ]
  },
  {
   "cell_type": "markdown",
   "metadata": {},
   "source": [
    "### Data"
   ]
  },
  {
   "cell_type": "markdown",
   "metadata": {},
   "source": [
    "The dataset is provided by Taarifa, together with the Tanzanian Ministry of Water and is hosted by DrivenData.org:\n",
    "\n",
    "https://www.drivendata.org/competitions/7/pump-it-up-data-mining-the-water-table/page/23/"
   ]
  },
  {
   "cell_type": "markdown",
   "metadata": {},
   "source": [
    "---"
   ]
  },
  {
   "cell_type": "markdown",
   "metadata": {},
   "source": [
    "## Exploratory Data Analysis"
   ]
  },
  {
   "cell_type": "markdown",
   "metadata": {},
   "source": [
    "Start by importing the necessary libraries and loading the data."
   ]
  },
  {
   "cell_type": "code",
   "execution_count": 1,
   "metadata": {},
   "outputs": [
    {
     "data": {
      "text/html": [
       "        <script type=\"text/javascript\">\n",
       "        window.PlotlyConfig = {MathJaxConfig: 'local'};\n",
       "        if (window.MathJax) {MathJax.Hub.Config({SVG: {font: \"STIX-Web\"}});}\n",
       "        if (typeof require !== 'undefined') {\n",
       "        require.undef(\"plotly\");\n",
       "        requirejs.config({\n",
       "            paths: {\n",
       "                'plotly': ['https://cdn.plot.ly/plotly-latest.min']\n",
       "            }\n",
       "        });\n",
       "        require(['plotly'], function(Plotly) {\n",
       "            window._Plotly = Plotly;\n",
       "        });\n",
       "        }\n",
       "        </script>\n",
       "        "
      ]
     },
     "metadata": {},
     "output_type": "display_data"
    }
   ],
   "source": [
    "import pandas as pd\n",
    "import plotly.graph_objs as go\n",
    "from plotly.offline import iplot, plot, init_notebook_mode\n",
    "import plotly.express as px\n",
    "from config import credentials\n",
    "\n",
    "init_notebook_mode(connected=True)"
   ]
  },
  {
   "cell_type": "code",
   "execution_count": 2,
   "metadata": {},
   "outputs": [],
   "source": [
    "# load the data\n",
    "train = pd.read_csv('../data/train.csv')\n",
    "train_labels = pd.read_csv('../data/train-labels.csv')"
   ]
  },
  {
   "cell_type": "markdown",
   "metadata": {},
   "source": [
    "`amount_tsh` - Total static head (amount water available to waterpoint)\n",
    "<br>`date_recorded` - The date the row was entered\n",
    "<br>`funder` - Who funded the well\n",
    "<br>`gps_height` - Altitude of the well\n",
    "<br>`installer` - Organization that installed the well\n",
    "<br>`longitude` - GPS coordinate\n",
    "<br>`latitude` - GPS coordinate\n",
    "<br>`wpt_name` - Name of the waterpoint if there is one\n",
    "<br>`num_private` -\n",
    "<br>`basin` - Geographic water basin\n",
    "<br>`subvillage` - Geographic location\n",
    "<br>`region` - Geographic location\n",
    "<br>`region_code` - Geographic location (coded)\n",
    "<br>`district_code` - Geographic location (coded)\n",
    "<br>`lga` - Geographic location\n",
    "<br>`ward` - Geographic location\n",
    "<br>`population` - Population around the well\n",
    "<br>`public_meeting` - True/False\n",
    "<br>`recorded_by` - Group entering this row of data\n",
    "<br>`scheme_management` - Who operates the waterpoint\n",
    "<br>`scheme_name` - Who operates the waterpoint\n",
    "<br>`permit` - If the waterpoint is permitted\n",
    "<br>`construction_year` - Year the waterpoint was constructed\n",
    "<br>`extraction_type` - The kind of extraction the waterpoint uses\n",
    "<br>`extraction_type_group` - The kind of extraction the waterpoint uses\n",
    "<br>`extraction_type_class` - The kind of extraction the waterpoint uses\n",
    "<br>`management` - How the waterpoint is managed\n",
    "<br>`management_group` - How the waterpoint is managed\n",
    "<br>`payment` - What the water costs\n",
    "<br>`payment_type` - What the water costs\n",
    "<br>`water_quality` - The quality of the water\n",
    "<br>`quality_group` - The quality of the water\n",
    "<br>`quantity` - The quantity of water\n",
    "<br>`quantity_group` - The quantity of water\n",
    "<br>`source` - The source of the water\n",
    "<br>`source_type` - The source of the water\n",
    "<br>`source_class` - The source of the water\n",
    "<br>`waterpoint_type` - The kind of waterpoint\n",
    "<br>`waterpoint_type_group` - The kind of waterpoint"
   ]
  },
  {
   "cell_type": "code",
   "execution_count": 10,
   "metadata": {},
   "outputs": [],
   "source": [
    "def plot_hist(data, col, ylog=False, xlog=False):\n",
    "    \"\"\"\n",
    "    Convenience function for plotting the histogram\n",
    "    for a given feature.\n",
    "    \"\"\"\n",
    "    \n",
    "    if ylog:\n",
    "        ymode='log'\n",
    "    else:\n",
    "        ymode=None\n",
    "    if xlog:\n",
    "        xmode='log'\n",
    "    else:\n",
    "        xmode=None\n",
    "    \n",
    "    trace = go.Histogram(x=data[col], name='col')\n",
    "    \n",
    "    layout = go.Layout(title=f'{col} Distribution',\n",
    "                  yaxis=dict(title='Count', type=ymode),\n",
    "                       xaxis=dict(type=xmode))\n",
    "        \n",
    "    fig = go.Figure([trace], layout=layout)\n",
    "    \n",
    "    iplot(fig, filename=f'{col}-dist.html')"
   ]
  },
  {
   "cell_type": "code",
   "execution_count": null,
   "metadata": {},
   "outputs": [],
   "source": []
  }
 ],
 "metadata": {
  "kernelspec": {
   "display_name": "Python 3",
   "language": "python",
   "name": "python3"
  },
  "language_info": {
   "codemirror_mode": {
    "name": "ipython",
    "version": 3
   },
   "file_extension": ".py",
   "mimetype": "text/x-python",
   "name": "python",
   "nbconvert_exporter": "python",
   "pygments_lexer": "ipython3",
   "version": "3.6.8"
  }
 },
 "nbformat": 4,
 "nbformat_minor": 2
}
